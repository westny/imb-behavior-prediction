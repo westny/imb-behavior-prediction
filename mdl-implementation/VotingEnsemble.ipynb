{
 "cells": [
  {
   "cell_type": "markdown",
   "id": "controlling-charlotte",
   "metadata": {},
   "source": [
    "## Voting ensemble\n",
    "**Author:** [westny](https://github.com/westny) <br>\n",
    "**Date created:** 2021-05-04 <br>\n",
    "**Last modified:** 2021-05-04 <br>\n",
    "**Description:** Implementation simple voting ensemble in PyTorch <br>"
   ]
  },
  {
   "cell_type": "code",
   "execution_count": null,
   "id": "dress-superintendent",
   "metadata": {},
   "outputs": [],
   "source": [
    "import torch\n",
    "import torch.nn as nn\n",
    "import torch.nn.functional as F"
   ]
  },
  {
   "cell_type": "code",
   "execution_count": null,
   "id": "honest-village",
   "metadata": {},
   "outputs": [],
   "source": [
    "class VotingEnsemble(nn.Module):\n",
    "    def __init__(self, *args):\n",
    "        super(VotingEnsemble, self).__init__()\n",
    "        self.estimators = [model for model in args]\n",
    "        self.hard = False\n",
    "    \n",
    "    def soft_voting(self, x):\n",
    "        outputs = [estimator(x) for estimator in self.estimators]\n",
    "        return sum(outputs)/len(outputs)\n",
    "    \n",
    "    def hard_voting(self, x):\n",
    "        outputs = [F.one_hot(torch.max(estimator(x).data, 1)[1], num_classes=3) for estimator in self.estimators]\n",
    "        return sum(outputs)/len(outputs)\n",
    "\n",
    "    def forward(self, x):\n",
    "        out = self.soft_voting(x)\n",
    "        return out"
   ]
  }
 ],
 "metadata": {
  "kernelspec": {
   "display_name": "Python 3",
   "language": "python",
   "name": "python3"
  },
  "language_info": {
   "codemirror_mode": {
    "name": "ipython",
    "version": 3
   },
   "file_extension": ".py",
   "mimetype": "text/x-python",
   "name": "python",
   "nbconvert_exporter": "python",
   "pygments_lexer": "ipython3",
   "version": "3.8.5"
  }
 },
 "nbformat": 4,
 "nbformat_minor": 5
}
