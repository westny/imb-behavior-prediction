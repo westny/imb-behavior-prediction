{
 "cells": [
  {
   "cell_type": "markdown",
   "id": "5a532f3c-6a89-4a99-a395-b730ab354765",
   "metadata": {},
   "source": [
    "## Vanilla Predictors\n",
    "**Author:** [westny](https://github.com/westny) <br>\n",
    "**Date created:** 2021-05-04 <br>\n",
    "**Last modified:** 2021-05-04 <br>\n",
    "**Description:** Implementation of simple classifiers using CNN or RNN encoders <br>"
   ]
  },
  {
   "cell_type": "code",
   "execution_count": 1,
   "id": "monetary-coast",
   "metadata": {},
   "outputs": [],
   "source": [
    "import numpy as np\n",
    "import torch\n",
    "import torch.nn as nn\n",
    "import torch.nn.functional as F\n",
    "import torch.optim as optim"
   ]
  },
  {
   "cell_type": "code",
   "execution_count": null,
   "id": "isolated-agriculture",
   "metadata": {},
   "outputs": [],
   "source": [
    "class VanillaCNN(nn.Module):\n",
    "    def __init__(self, n_features=4, seq_len=20, n_filters=16, dropout_prob=0.7, n_outputs=3):\n",
    "        super(VanillaCNN, self).__init__()\n",
    "        \n",
    "        self.n_outputs = n_outputs\n",
    "        self.n_filters = n_filters\n",
    "        self.n_filters_h = int(n_filters/2)\n",
    "        self.conv1 = nn.Conv1d(n_features, n_filters, kernel_size=5, stride=1, padding=2)\n",
    "        self.conv2 = nn.Conv1d(n_filters, n_features, kernel_size=5, stride=1, padding=2)\n",
    "        self.conv3 = nn.Conv1d(n_features, n_features, kernel_size=5, stride=1, padding=2)\n",
    "\n",
    "        self.classification = nn.Sequential(\n",
    "            nn.Linear(n_features*seq_len, 128),\n",
    "            nn.BatchNorm1d(128),\n",
    "            nn.RReLU(0.1, 0.3),\n",
    "            \n",
    "            nn.Dropout(0.5),\n",
    "            nn.Linear(128, 64),\n",
    "            nn.BatchNorm1d(64),\n",
    "            nn.RReLU(0.1, 0.3),\n",
    "            \n",
    "            nn.Dropout(0.15),\n",
    "            nn.Linear(64, 32),\n",
    "            nn.RReLU(0.1, 0.3),\n",
    "            \n",
    "            nn.Linear(32, n_outputs),\n",
    "        )\n",
    "    \n",
    "    def forward(self, x):\n",
    "        x = x[:, :, 4:8]\n",
    "        x = x.permute(0, 2, 1)\n",
    "        x = self.conv3(x)\n",
    "\n",
    "        x = F.relu(x)\n",
    "        x = x.contiguous().view(x.size(0), -1)\n",
    "        x = self.classification(x)\n",
    "        return F.softmax(x, dim=1)"
   ]
  },
  {
   "cell_type": "code",
   "execution_count": null,
   "id": "interpreted-screen",
   "metadata": {},
   "outputs": [],
   "source": [
    "class VanillaLSTM(nn.Module):\n",
    "    def __init__(self, n_features=4, seq_len=20, n_hidden=64, n_layers=1, dropout_prob=0.7, n_outputs=3):\n",
    "        super(VanillaLSTM, self).__init__()\n",
    "        \n",
    "        self.n_layers = n_layers\n",
    "        self.hidden_size = n_hidden\n",
    "        self.lstm = nn.LSTM(n_features, n_hidden, n_layers, batch_first=True)\n",
    "\n",
    "        self.classification = nn.Sequential(\n",
    "            nn.Linear(n_hidden, 128),\n",
    "            nn.BatchNorm1d(128),\n",
    "            nn.RReLU(0.1, 0.3),\n",
    "            \n",
    "            nn.Dropout(0.5),\n",
    "            nn.Linear(128, 64),\n",
    "            nn.BatchNorm1d(64),\n",
    "            nn.RReLU(0.1, 0.3),\n",
    "            \n",
    "            nn.Dropout(0.15),\n",
    "            nn.Linear(64, 32),\n",
    "            nn.RReLU(0.1, 0.3),\n",
    "            \n",
    "            nn.Linear(32, n_outputs),\n",
    "        )\n",
    "    \n",
    "    def init_hidden(self, batch_size=1):\n",
    "        return (torch.zeros(self.n_layers, batch_size, self.hidden_size, device='cuda'),\n",
    "                torch.zeros(self.n_layers, batch_size, self.hidden_size, device='cuda'))\n",
    "    \n",
    "    def forward(self, x):\n",
    "        x = x[:, :, 4:8]\n",
    "        hc = self.init_hidden(x.size(0))\n",
    "        _, (hidden, cell) = self.lstm(x, hc)\n",
    "        hidden = hidden[-1,:,:]\n",
    "        x = F.relu(hidden)\n",
    "        x = self.classification(x)\n",
    "        return F.softmax(x, dim=1)"
   ]
  }
 ],
 "metadata": {
  "kernelspec": {
   "display_name": "Python 3",
   "language": "python",
   "name": "python3"
  },
  "language_info": {
   "codemirror_mode": {
    "name": "ipython",
    "version": 3
   },
   "file_extension": ".py",
   "mimetype": "text/x-python",
   "name": "python",
   "nbconvert_exporter": "python",
   "pygments_lexer": "ipython3",
   "version": "3.8.5"
  }
 },
 "nbformat": 4,
 "nbformat_minor": 5
}
