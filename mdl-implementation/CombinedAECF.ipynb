{
 "cells": [
  {
   "cell_type": "code",
   "execution_count": 3,
   "id": "greenhouse-participant",
   "metadata": {},
   "outputs": [],
   "source": [
    "import torch\n",
    "import torch.nn as nn\n",
    "import torch.nn.functional as F"
   ]
  },
  {
   "cell_type": "code",
   "execution_count": 4,
   "id": "primary-validation",
   "metadata": {},
   "outputs": [],
   "source": [
    "class CombinedAECF(nn.Module):\n",
    "    def __init__(self, autoencoder, classifier):\n",
    "        super(CombinedAECF, self).__init__()\n",
    "        self.encoder = autoencoder\n",
    "        self.cf = classifier\n",
    "\n",
    "    def forward(self, x):\n",
    "        encoded = self.encoder(x[:, :, 4:])\n",
    "        out = self.cf(encoded, x)\n",
    "        return out"
   ]
  },
  {
   "cell_type": "code",
   "execution_count": null,
   "id": "advised-survey",
   "metadata": {},
   "outputs": [],
   "source": [
    "class CombinedAESVM(nn.Module):\n",
    "    def __init__(self, autoencoder, classifier):\n",
    "        super(CombinedAESVM, self).__init__()\n",
    "        self.encoder = autoencoder\n",
    "        self.cf = classifier\n",
    "\n",
    "    def forward(self, x):\n",
    "        encoded = self.encoder(x[:, :, 4:])\n",
    "        encoded = encoded.cpu().detach().numpy()\n",
    "        out = self.cf.predict_proba(encoded)\n",
    "        out = torch.from_numpy(out).to(torch.float32).to('cuda')\n",
    "        return out"
   ]
  },
  {
   "cell_type": "code",
   "execution_count": null,
   "id": "apparent-workshop",
   "metadata": {},
   "outputs": [],
   "source": [
    "class CombinedAESVMRule(nn.Module):\n",
    "    def __init__(self, autoencoder, classifier):\n",
    "        super(CombinedAESVMRule, self).__init__()\n",
    "        self.encoder = autoencoder\n",
    "        self.cf = classifier\n",
    "        self.rule = StaticFeatureEncoder()\n",
    "\n",
    "    def forward(self, x):\n",
    "        static_out, condition = self.rule(x.clone())\n",
    "        encoded = self.encoder(x[:, :, 4:])\n",
    "        encoded = torch.cat((encoded, static_out), dim=1)\n",
    "        encoded = encoded.cpu().detach().numpy()\n",
    "        out = self.cf.predict_proba(encoded)\n",
    "        out = torch.from_numpy(out).to(torch.float32).to('cuda')\n",
    "        return out#*condition"
   ]
  },
  {
   "cell_type": "code",
   "execution_count": null,
   "id": "threatened-ability",
   "metadata": {},
   "outputs": [],
   "source": [
    "class StaticFeatureEncoder(nn.Module):\n",
    "    \"\"\" Encodes categorical features \"\"\"\n",
    "    def __init__(self, n_features=3+2*2):\n",
    "        super(StaticFeatureEncoder, self).__init__()\n",
    "        \n",
    "        self.n_features = n_features\n",
    "        enc = OneHotEncoder()\n",
    "        \n",
    "        #lane_types= ['travel', 'through', 'express', 'aux']\n",
    "        lane_types = np.array([1, 2, 3, 4]).reshape(-1, 1)\n",
    "        self.lane_enc = torch.from_numpy(enc.fit_transform(lane_types).toarray())\n",
    "\n",
    "        v_class_arr = np.array([1, 2, 3]).reshape(-1, 1)\n",
    "        self.v_enc = torch.from_numpy(enc.fit_transform(v_class_arr).toarray())\n",
    "        \n",
    "        neighbor_lanes = np.array([0, 1]).reshape(-1, 1)\n",
    "        self.lane_neigh = torch.from_numpy(enc.fit_transform(neighbor_lanes).toarray())\n",
    "        \n",
    "        self.left_lane_exists = torch.ones(2, 3, device='cuda')\n",
    "        self.left_lane_exists[0,0] = 0\n",
    "        \n",
    "        self.right_lane_exists = torch.ones(2, 3, device='cuda')\n",
    "        self.right_lane_exists[0,-1] = 0\n",
    "        \n",
    "    def get_lane_enc(self, lane_n):\n",
    "        return self.lane_enc[lane_n-1, :]\n",
    "    \n",
    "    def get_left_lane_enc(self, lane_n):\n",
    "        return self.lane_neigh[lane_n, :], self.left_lane_exists[lane_n, :]\n",
    "    \n",
    "    def get_right_lane_enc(self, lane_n):\n",
    "        return self.lane_neigh[lane_n, :], self.right_lane_exists[lane_n, :]\n",
    "\n",
    "    def get_v_enc(self, v_n):\n",
    "        return self.v_enc[v_n-1, :]\n",
    "    \n",
    "    def encode(self, batch):\n",
    "        y = torch.empty(1, self.n_features, device='cuda')\n",
    "        y[0, 0:3] = self.get_v_enc(batch[0])\n",
    "        y[0, 3:5], le = self.get_left_lane_enc(batch[2])\n",
    "        y[0, 5:], re = self.get_right_lane_enc(batch[3])\n",
    "        \n",
    "        return y, le*re\n",
    "    \n",
    "    def encode_batch(self, tensor):\n",
    "        y = torch.empty(tensor.size(0), self.n_features, device='cuda')\n",
    "        ex = torch.empty(tensor.size(0), 3, device='cuda')\n",
    "        for batch in range(0, tensor.size(0)):\n",
    "            y[batch, :], ex[batch, :] = self.encode(tensor[batch, :])\n",
    "        return y, ex\n",
    "    \n",
    "    def forward(self, x):\n",
    "        static_x = x[:, -1, 0:4].type(torch.int32)\n",
    "        out, ex = self.encode_batch(static_x)\n",
    "        return out, ex"
   ]
  }
 ],
 "metadata": {
  "kernelspec": {
   "display_name": "Python 3",
   "language": "python",
   "name": "python3"
  },
  "language_info": {
   "codemirror_mode": {
    "name": "ipython",
    "version": 3
   },
   "file_extension": ".py",
   "mimetype": "text/x-python",
   "name": "python",
   "nbconvert_exporter": "python",
   "pygments_lexer": "ipython3",
   "version": "3.8.10"
  }
 },
 "nbformat": 4,
 "nbformat_minor": 5
}
