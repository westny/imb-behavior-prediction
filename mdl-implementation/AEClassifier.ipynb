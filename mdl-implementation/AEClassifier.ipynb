{
 "cells": [
  {
   "cell_type": "markdown",
   "id": "e38f5098-21a4-4fd7-bce4-2013985e6ce1",
   "metadata": {},
   "source": [
    "## Autoencoder Classifiers\n",
    "**Author:** [westny](https://github.com/westny) <br>\n",
    "**Date created:** 2021-05-04 <br>\n",
    "**Last modified:** 2021-05-04 <br>\n",
    "**Description:** Implementation ANNs to classify maneuvers using encoding provided by autoencoder. <br>"
   ]
  },
  {
   "cell_type": "code",
   "execution_count": 1,
   "id": "herbal-launch",
   "metadata": {},
   "outputs": [],
   "source": [
    "import numpy as np\n",
    "import torch\n",
    "import torch.nn as nn\n",
    "import torch.nn.functional as F\n",
    "import torch.optim as optim"
   ]
  },
  {
   "cell_type": "code",
   "execution_count": null,
   "id": "moral-plenty",
   "metadata": {},
   "outputs": [],
   "source": [
    "from sklearn.feature_extraction import FeatureHasher\n",
    "from sklearn.preprocessing import OneHotEncoder"
   ]
  },
  {
   "cell_type": "markdown",
   "id": "40bb3ac0-b78e-4fd8-b1ab-88c5a17df902",
   "metadata": {},
   "source": [
    "### Base model"
   ]
  },
  {
   "cell_type": "code",
   "execution_count": null,
   "id": "absent-accessory",
   "metadata": {},
   "outputs": [],
   "source": [
    "class AEClassifier(nn.Module):\n",
    "    \"\"\" IntentClassifier. Classifies intent (LCL, LCR, LK) \"\"\"\n",
    "    def __init__(self, n_inputs=256, n_outputs=3):\n",
    "        super(AEClassifier, self).__init__()\n",
    "        self.n_inputs = n_inputs\n",
    "\n",
    "        self.classification = nn.Sequential(\n",
    "            nn.Linear(n_inputs, 1024),\n",
    "            nn.BatchNorm1d(1024),\n",
    "            nn.PReLU(),\n",
    "            \n",
    "            nn.Dropout(0.5),\n",
    "            nn.Linear(1024, 256),\n",
    "            nn.BatchNorm1d(256),\n",
    "            nn.PReLU(),\n",
    "            \n",
    "            nn.Dropout(0.5),\n",
    "            nn.Linear(256, 64),\n",
    "            nn.BatchNorm1d(64),\n",
    "            nn.PReLU(),\n",
    "            \n",
    "            nn.Dropout(0.15),\n",
    "            nn.Linear(64, n_outputs),\n",
    "        )\n",
    "    \n",
    "    def forward(self, x, y):\n",
    "        out = self.classification(x)\n",
    "        return F.softmax(out, dim=1)"
   ]
  },
  {
   "cell_type": "markdown",
   "id": "0a1cba00-6d02-4e5d-adf1-322171a64761",
   "metadata": {},
   "source": [
    "### Using categorical features"
   ]
  },
  {
   "cell_type": "code",
   "execution_count": null,
   "id": "breeding-knowing",
   "metadata": {},
   "outputs": [],
   "source": [
    "class AEClassifierRule(nn.Module):\n",
    "    \"\"\" IntentClassifier. Classifies intent (LCL, LCR, LK) \"\"\"\n",
    "    def __init__(self, n_inputs=256, n_outputs=3):\n",
    "        super(AEClassifierRule, self).__init__()\n",
    "        self.n_inputs = n_inputs\n",
    "        self.static_feature_encoder = StaticFeatureEncoder()\n",
    "\n",
    "        self.classification = nn.Sequential(\n",
    "            nn.Dropout(0.3),\n",
    "            nn.Linear(n_inputs+11, 1024),\n",
    "            nn.BatchNorm1d(1024),\n",
    "            nn.PReLU(),\n",
    "            \n",
    "            nn.Dropout(0.5),\n",
    "            nn.Linear(1024, 256),\n",
    "            nn.BatchNorm1d(256),\n",
    "            nn.PReLU(),\n",
    "            \n",
    "            nn.Dropout(0.5),\n",
    "            nn.Linear(256, 64),\n",
    "            nn.BatchNorm1d(64),\n",
    "            nn.PReLU(),\n",
    "            \n",
    "            nn.Dropout(0.15),\n",
    "            nn.Linear(64, n_outputs),\n",
    "        )\n",
    "    \n",
    "    def forward(self, x, y):\n",
    "        static_out, condition = self.static_feature_encoder(y)\n",
    "        x = torch.tanh(x)\n",
    "        x = torch.cat((x, static_out), dim=1)\n",
    "        out = self.classification(x)\n",
    "        return F.softmax(out, dim=1)"
   ]
  },
  {
   "cell_type": "markdown",
   "id": "93dada82-d4d5-40c8-934f-97666f14a25f",
   "metadata": {},
   "source": [
    "### Categorical Feature encoder"
   ]
  },
  {
   "cell_type": "code",
   "execution_count": null,
   "id": "mighty-subscriber",
   "metadata": {},
   "outputs": [],
   "source": [
    "class CategoricalFeatureEncoder(nn.Module):\n",
    "    \"\"\" Encodes categorical features \"\"\"\n",
    "    def __init__(self, n_features=3+2*2):\n",
    "        super(CategoricalFeatureEncoder, self).__init__()\n",
    "        \n",
    "        self.n_features = n_features\n",
    "        enc = OneHotEncoder()\n",
    "        \n",
    "        #lane_types= ['travel', 'through', 'express', 'aux']\n",
    "        lane_types = np.array([1, 2, 3, 4]).reshape(-1, 1)\n",
    "        self.lane_enc = torch.from_numpy(enc.fit_transform(lane_types).toarray())\n",
    "\n",
    "        v_class_arr = np.array([1, 2, 3]).reshape(-1, 1)\n",
    "        self.v_enc = torch.from_numpy(enc.fit_transform(v_class_arr).toarray())\n",
    "        \n",
    "        neighbor_lanes = np.array([0, 1]).reshape(-1, 1)\n",
    "        self.lane_neigh = torch.from_numpy(enc.fit_transform(neighbor_lanes).toarray())\n",
    "        \n",
    "        self.left_lane_exists = torch.ones(2, 3, device='cuda')\n",
    "        self.left_lane_exists[0,0] = 0\n",
    "        \n",
    "        self.right_lane_exists = torch.ones(2, 3, device='cuda')\n",
    "        self.right_lane_exists[0,-1] = 0\n",
    "        \n",
    "    def get_lane_enc(self, lane_n):\n",
    "        return self.lane_enc[lane_n-1, :]\n",
    "    \n",
    "    def get_left_lane_enc(self, lane_n):\n",
    "        return self.lane_neigh[lane_n, :], self.left_lane_exists[lane_n, :]\n",
    "    \n",
    "    def get_right_lane_enc(self, lane_n):\n",
    "        return self.lane_neigh[lane_n, :], self.right_lane_exists[lane_n, :]\n",
    "\n",
    "    def get_v_enc(self, v_n):\n",
    "        return self.v_enc[v_n-1, :]\n",
    "    \n",
    "    def encode(self, batch):\n",
    "        y = torch.empty(1, self.n_features, device='cuda')\n",
    "        y[0, 0:3] = self.get_v_enc(batch[0])\n",
    "        y[0, 3:5], le = self.get_left_lane_enc(batch[2])\n",
    "        y[0, 5:], re = self.get_right_lane_enc(batch[3])\n",
    "        \n",
    "        return y, le*re\n",
    "    \n",
    "    def encode_batch(self, tensor):\n",
    "        y = torch.empty(tensor.size(0), self.n_features, device='cuda')\n",
    "        ex = torch.empty(tensor.size(0), 3, device='cuda')\n",
    "        for batch in range(0, tensor.size(0)):\n",
    "            y[batch, :], ex[batch, :] = self.encode(tensor[batch, :])\n",
    "        return y, ex\n",
    "    \n",
    "    def forward(self, x):\n",
    "        static_x = x[:, -1, 0:4].type(torch.int32)\n",
    "        out, ex = self.encode_batch(static_x)\n",
    "        return out, ex"
   ]
  }
 ],
 "metadata": {
  "kernelspec": {
   "display_name": "Python 3",
   "language": "python",
   "name": "python3"
  },
  "language_info": {
   "codemirror_mode": {
    "name": "ipython",
    "version": 3
   },
   "file_extension": ".py",
   "mimetype": "text/x-python",
   "name": "python",
   "nbconvert_exporter": "python",
   "pygments_lexer": "ipython3",
   "version": "3.8.5"
  }
 },
 "nbformat": 4,
 "nbformat_minor": 5
}
